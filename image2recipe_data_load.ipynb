{
  "nbformat": 4,
  "nbformat_minor": 0,
  "metadata": {
    "colab": {
      "provenance": [],
      "mount_file_id": "1n_O3-CIfR0ODoXJUY6dDmwNYL4FvR0W5",
      "authorship_tag": "ABX9TyPfyh/l0ZHY2BYs0Hj8dggh",
      "include_colab_link": true
    },
    "kernelspec": {
      "name": "python3",
      "display_name": "Python 3"
    },
    "language_info": {
      "name": "python"
    },
    "gpuClass": "standard"
  },
  "cells": [
    {
      "cell_type": "markdown",
      "metadata": {
        "id": "view-in-github",
        "colab_type": "text"
      },
      "source": [
        "<a href=\"https://colab.research.google.com/github/halona719halona/datasets/blob/main/image2recipe_data_load.ipynb\" target=\"_parent\"><img src=\"https://colab.research.google.com/assets/colab-badge.svg\" alt=\"Open In Colab\"/></a>"
      ]
    },
    {
      "cell_type": "code",
      "source": [
        "from google.colab import drive \n",
        "drive.mount('/content/drive')"
      ],
      "metadata": {
        "colab": {
          "base_uri": "https://localhost:8080/"
        },
        "id": "jSQ8vrRKWNXf",
        "outputId": "78670589-3a00-4a03-862a-b9e30cecf58a"
      },
      "execution_count": null,
      "outputs": [
        {
          "output_type": "stream",
          "name": "stdout",
          "text": [
            "Drive already mounted at /content/drive; to attempt to forcibly remount, call drive.mount(\"/content/drive\", force_remount=True).\n"
          ]
        }
      ]
    },
    {
      "cell_type": "code",
      "source": [
        "!pip install bs4\n",
        "!pip install lxml\n"
      ],
      "metadata": {
        "colab": {
          "base_uri": "https://localhost:8080/"
        },
        "id": "ZVgC5FuaWWbP",
        "outputId": "b6349b68-40f3-49a3-c3ab-d072d60c52f6"
      },
      "execution_count": 1,
      "outputs": [
        {
          "output_type": "stream",
          "name": "stdout",
          "text": [
            "Looking in indexes: https://pypi.org/simple, https://us-python.pkg.dev/colab-wheels/public/simple/\n",
            "Requirement already satisfied: bs4 in /usr/local/lib/python3.8/dist-packages (0.0.1)\n",
            "Requirement already satisfied: beautifulsoup4 in /usr/local/lib/python3.8/dist-packages (from bs4) (4.6.3)\n",
            "Looking in indexes: https://pypi.org/simple, https://us-python.pkg.dev/colab-wheels/public/simple/\n",
            "Requirement already satisfied: lxml in /usr/local/lib/python3.8/dist-packages (4.9.1)\n"
          ]
        }
      ]
    },
    {
      "cell_type": "code",
      "source": [],
      "metadata": {
        "id": "Yk7HUdzej8Wx"
      },
      "execution_count": null,
      "outputs": []
    },
    {
      "cell_type": "markdown",
      "source": [
        "# New Section"
      ],
      "metadata": {
        "id": "27TYXJ20j-nR"
      }
    },
    {
      "cell_type": "code",
      "source": [
        "!pwd"
      ],
      "metadata": {
        "colab": {
          "base_uri": "https://localhost:8080/"
        },
        "id": "vi1CeG5gIGga",
        "outputId": "7e404e3a-ccbd-4998-de19-0c8fcff1c654"
      },
      "execution_count": 2,
      "outputs": [
        {
          "output_type": "stream",
          "name": "stdout",
          "text": [
            "/content\n"
          ]
        }
      ]
    },
    {
      "cell_type": "code",
      "source": [
        "import datetime as dt\n",
        "import csv\n",
        "from bs4 import BeautifulSoup\n",
        "from lxml import html\n",
        "from datetime import datetime\n",
        "from multiprocessing import Pool\n",
        "from random import uniform, choice\n",
        "from time import sleep, time\n",
        "import requests\n",
        "import os.path\n",
        "import re\n",
        "import os\n",
        "import pandas as pd\n",
        "import urllib.request"
      ],
      "metadata": {
        "id": "nzl_K2EtIhsb"
      },
      "execution_count": 60,
      "outputs": []
    },
    {
      "cell_type": "code",
      "source": [
        "csv_file = \"/content/sample_data/chefkoch_rezepte_27-12-2017.csv\""
      ],
      "metadata": {
        "id": "Wn-dhBKTIInK"
      },
      "execution_count": 9,
      "outputs": []
    },
    {
      "cell_type": "code",
      "source": [
        "df = pd.read_csv(csv_file)"
      ],
      "metadata": {
        "id": "aBLsvk66IeyF"
      },
      "execution_count": 36,
      "outputs": []
    },
    {
      "cell_type": "code",
      "source": [
        "df.head(5)"
      ],
      "metadata": {
        "colab": {
          "base_uri": "https://localhost:8080/",
          "height": 357
        },
        "id": "JPuFezFdQKyM",
        "outputId": "50c678ce-5caa-4937-937c-747c3fcc87d8"
      },
      "execution_count": 37,
      "outputs": [
        {
          "output_type": "execute_result",
          "data": {
            "text/plain": [
              "   idx                recipe_id                         recipe_name  \\\n",
              "0    0  recipe-3449791514066439                   Bratapfel-Rotkohl   \n",
              "1    1  recipe-3449721514056932   „Frühstückswolke 7“ aus Fiefhusen   \n",
              "2    2  recipe-3449701514054063  Deichgrafensalat von der Westküste   \n",
              "3    3  recipe-3449651514047893                  Geschichteter Kohl   \n",
              "4    4  recipe-3449681514052511                  Rinderlendenragout   \n",
              "\n",
              "          average_rating stars_shown  votes difficulty preparation_time  \\\n",
              "0  0 Bewertungen - Ø 2.5    star-unb    0.0     normal          45 min.   \n",
              "1  0 Bewertungen - Ø 2.5    star-unb    0.0    pfiffig          15 min.   \n",
              "2  0 Bewertungen - Ø 2.5    star-unb    0.0     normal          30 min.   \n",
              "3  0 Bewertungen - Ø 2.5    star-unb    0.0     normal          40 min.   \n",
              "4  0 Bewertungen - Ø 2.5    star-unb    0.0     normal          15 min.   \n",
              "\n",
              "         date                                               link has_picture  \n",
              "0  24.12.2017  https://www.chefkoch.de/rezepte/34497915140664...          no  \n",
              "1  24.12.2017  https://www.chefkoch.de/rezepte/34497215140569...          no  \n",
              "2  24.12.2017  https://www.chefkoch.de/rezepte/34497015140540...          no  \n",
              "3  24.12.2017  https://www.chefkoch.de/rezepte/34496515140478...          no  \n",
              "4  24.12.2017  https://www.chefkoch.de/rezepte/34496815140525...          no  "
            ],
            "text/html": [
              "\n",
              "  <div id=\"df-2f09ff4a-a81b-4ede-b0a7-4de09b693c83\">\n",
              "    <div class=\"colab-df-container\">\n",
              "      <div>\n",
              "<style scoped>\n",
              "    .dataframe tbody tr th:only-of-type {\n",
              "        vertical-align: middle;\n",
              "    }\n",
              "\n",
              "    .dataframe tbody tr th {\n",
              "        vertical-align: top;\n",
              "    }\n",
              "\n",
              "    .dataframe thead th {\n",
              "        text-align: right;\n",
              "    }\n",
              "</style>\n",
              "<table border=\"1\" class=\"dataframe\">\n",
              "  <thead>\n",
              "    <tr style=\"text-align: right;\">\n",
              "      <th></th>\n",
              "      <th>idx</th>\n",
              "      <th>recipe_id</th>\n",
              "      <th>recipe_name</th>\n",
              "      <th>average_rating</th>\n",
              "      <th>stars_shown</th>\n",
              "      <th>votes</th>\n",
              "      <th>difficulty</th>\n",
              "      <th>preparation_time</th>\n",
              "      <th>date</th>\n",
              "      <th>link</th>\n",
              "      <th>has_picture</th>\n",
              "    </tr>\n",
              "  </thead>\n",
              "  <tbody>\n",
              "    <tr>\n",
              "      <th>0</th>\n",
              "      <td>0</td>\n",
              "      <td>recipe-3449791514066439</td>\n",
              "      <td>Bratapfel-Rotkohl</td>\n",
              "      <td>0 Bewertungen - Ø 2.5</td>\n",
              "      <td>star-unb</td>\n",
              "      <td>0.0</td>\n",
              "      <td>normal</td>\n",
              "      <td>45 min.</td>\n",
              "      <td>24.12.2017</td>\n",
              "      <td>https://www.chefkoch.de/rezepte/34497915140664...</td>\n",
              "      <td>no</td>\n",
              "    </tr>\n",
              "    <tr>\n",
              "      <th>1</th>\n",
              "      <td>1</td>\n",
              "      <td>recipe-3449721514056932</td>\n",
              "      <td>„Frühstückswolke 7“ aus Fiefhusen</td>\n",
              "      <td>0 Bewertungen - Ø 2.5</td>\n",
              "      <td>star-unb</td>\n",
              "      <td>0.0</td>\n",
              "      <td>pfiffig</td>\n",
              "      <td>15 min.</td>\n",
              "      <td>24.12.2017</td>\n",
              "      <td>https://www.chefkoch.de/rezepte/34497215140569...</td>\n",
              "      <td>no</td>\n",
              "    </tr>\n",
              "    <tr>\n",
              "      <th>2</th>\n",
              "      <td>2</td>\n",
              "      <td>recipe-3449701514054063</td>\n",
              "      <td>Deichgrafensalat von der Westküste</td>\n",
              "      <td>0 Bewertungen - Ø 2.5</td>\n",
              "      <td>star-unb</td>\n",
              "      <td>0.0</td>\n",
              "      <td>normal</td>\n",
              "      <td>30 min.</td>\n",
              "      <td>24.12.2017</td>\n",
              "      <td>https://www.chefkoch.de/rezepte/34497015140540...</td>\n",
              "      <td>no</td>\n",
              "    </tr>\n",
              "    <tr>\n",
              "      <th>3</th>\n",
              "      <td>3</td>\n",
              "      <td>recipe-3449651514047893</td>\n",
              "      <td>Geschichteter Kohl</td>\n",
              "      <td>0 Bewertungen - Ø 2.5</td>\n",
              "      <td>star-unb</td>\n",
              "      <td>0.0</td>\n",
              "      <td>normal</td>\n",
              "      <td>40 min.</td>\n",
              "      <td>24.12.2017</td>\n",
              "      <td>https://www.chefkoch.de/rezepte/34496515140478...</td>\n",
              "      <td>no</td>\n",
              "    </tr>\n",
              "    <tr>\n",
              "      <th>4</th>\n",
              "      <td>4</td>\n",
              "      <td>recipe-3449681514052511</td>\n",
              "      <td>Rinderlendenragout</td>\n",
              "      <td>0 Bewertungen - Ø 2.5</td>\n",
              "      <td>star-unb</td>\n",
              "      <td>0.0</td>\n",
              "      <td>normal</td>\n",
              "      <td>15 min.</td>\n",
              "      <td>24.12.2017</td>\n",
              "      <td>https://www.chefkoch.de/rezepte/34496815140525...</td>\n",
              "      <td>no</td>\n",
              "    </tr>\n",
              "  </tbody>\n",
              "</table>\n",
              "</div>\n",
              "      <button class=\"colab-df-convert\" onclick=\"convertToInteractive('df-2f09ff4a-a81b-4ede-b0a7-4de09b693c83')\"\n",
              "              title=\"Convert this dataframe to an interactive table.\"\n",
              "              style=\"display:none;\">\n",
              "        \n",
              "  <svg xmlns=\"http://www.w3.org/2000/svg\" height=\"24px\"viewBox=\"0 0 24 24\"\n",
              "       width=\"24px\">\n",
              "    <path d=\"M0 0h24v24H0V0z\" fill=\"none\"/>\n",
              "    <path d=\"M18.56 5.44l.94 2.06.94-2.06 2.06-.94-2.06-.94-.94-2.06-.94 2.06-2.06.94zm-11 1L8.5 8.5l.94-2.06 2.06-.94-2.06-.94L8.5 2.5l-.94 2.06-2.06.94zm10 10l.94 2.06.94-2.06 2.06-.94-2.06-.94-.94-2.06-.94 2.06-2.06.94z\"/><path d=\"M17.41 7.96l-1.37-1.37c-.4-.4-.92-.59-1.43-.59-.52 0-1.04.2-1.43.59L10.3 9.45l-7.72 7.72c-.78.78-.78 2.05 0 2.83L4 21.41c.39.39.9.59 1.41.59.51 0 1.02-.2 1.41-.59l7.78-7.78 2.81-2.81c.8-.78.8-2.07 0-2.86zM5.41 20L4 18.59l7.72-7.72 1.47 1.35L5.41 20z\"/>\n",
              "  </svg>\n",
              "      </button>\n",
              "      \n",
              "  <style>\n",
              "    .colab-df-container {\n",
              "      display:flex;\n",
              "      flex-wrap:wrap;\n",
              "      gap: 12px;\n",
              "    }\n",
              "\n",
              "    .colab-df-convert {\n",
              "      background-color: #E8F0FE;\n",
              "      border: none;\n",
              "      border-radius: 50%;\n",
              "      cursor: pointer;\n",
              "      display: none;\n",
              "      fill: #1967D2;\n",
              "      height: 32px;\n",
              "      padding: 0 0 0 0;\n",
              "      width: 32px;\n",
              "    }\n",
              "\n",
              "    .colab-df-convert:hover {\n",
              "      background-color: #E2EBFA;\n",
              "      box-shadow: 0px 1px 2px rgba(60, 64, 67, 0.3), 0px 1px 3px 1px rgba(60, 64, 67, 0.15);\n",
              "      fill: #174EA6;\n",
              "    }\n",
              "\n",
              "    [theme=dark] .colab-df-convert {\n",
              "      background-color: #3B4455;\n",
              "      fill: #D2E3FC;\n",
              "    }\n",
              "\n",
              "    [theme=dark] .colab-df-convert:hover {\n",
              "      background-color: #434B5C;\n",
              "      box-shadow: 0px 1px 3px 1px rgba(0, 0, 0, 0.15);\n",
              "      filter: drop-shadow(0px 1px 2px rgba(0, 0, 0, 0.3));\n",
              "      fill: #FFFFFF;\n",
              "    }\n",
              "  </style>\n",
              "\n",
              "      <script>\n",
              "        const buttonEl =\n",
              "          document.querySelector('#df-2f09ff4a-a81b-4ede-b0a7-4de09b693c83 button.colab-df-convert');\n",
              "        buttonEl.style.display =\n",
              "          google.colab.kernel.accessAllowed ? 'block' : 'none';\n",
              "\n",
              "        async function convertToInteractive(key) {\n",
              "          const element = document.querySelector('#df-2f09ff4a-a81b-4ede-b0a7-4de09b693c83');\n",
              "          const dataTable =\n",
              "            await google.colab.kernel.invokeFunction('convertToInteractive',\n",
              "                                                     [key], {});\n",
              "          if (!dataTable) return;\n",
              "\n",
              "          const docLinkHtml = 'Like what you see? Visit the ' +\n",
              "            '<a target=\"_blank\" href=https://colab.research.google.com/notebooks/data_table.ipynb>data table notebook</a>'\n",
              "            + ' to learn more about interactive tables.';\n",
              "          element.innerHTML = '';\n",
              "          dataTable['output_type'] = 'display_data';\n",
              "          await google.colab.output.renderOutput(dataTable, element);\n",
              "          const docLink = document.createElement('div');\n",
              "          docLink.innerHTML = docLinkHtml;\n",
              "          element.appendChild(docLink);\n",
              "        }\n",
              "      </script>\n",
              "    </div>\n",
              "  </div>\n",
              "  "
            ]
          },
          "metadata": {},
          "execution_count": 37
        }
      ]
    },
    {
      "cell_type": "code",
      "source": [
        "failed_urls = []"
      ],
      "metadata": {
        "id": "gtAU1j2hO__r"
      },
      "execution_count": 38,
      "outputs": []
    },
    {
      "cell_type": "code",
      "source": [
        "desktop_agents = ['Mozilla/5.0 (Windows NT 6.1; WOW64) AppleWebKit/537.36 (KHTML, like Gecko) Chrome/54.0.2840.99 Safari/537.36',\n",
        "                 'Mozilla/5.0 (Windows NT 10.0; WOW64) AppleWebKit/537.36 (KHTML, like Gecko) Chrome/54.0.2840.99 Safari/537.36',\n",
        "                 'Mozilla/5.0 (Windows NT 10.0; Win64; x64) AppleWebKit/537.36 (KHTML, like Gecko) Chrome/54.0.2840.99 Safari/537.36',\n",
        "                 'Mozilla/5.0 (Macintosh; Intel Mac OS X 10_12_1) AppleWebKit/602.2.14 (KHTML, like Gecko) Version/10.0.1 Safari/602.2.14',\n",
        "                 'Mozilla/5.0 (Windows NT 10.0; WOW64) AppleWebKit/537.36 (KHTML, like Gecko) Chrome/54.0.2840.71 Safari/537.36',\n",
        "                 'Mozilla/5.0 (Macintosh; Intel Mac OS X 10_12_1) AppleWebKit/537.36 (KHTML, like Gecko) Chrome/54.0.2840.98 Safari/537.36',\n",
        "                 'Mozilla/5.0 (Macintosh; Intel Mac OS X 10_11_6) AppleWebKit/537.36 (KHTML, like Gecko) Chrome/54.0.2840.98 Safari/537.36',\n",
        "                 'Mozilla/5.0 (Windows NT 6.1; WOW64) AppleWebKit/537.36 (KHTML, like Gecko) Chrome/54.0.2840.71 Safari/537.36',\n",
        "                 'Mozilla/5.0 (Windows NT 6.1; Win64; x64) AppleWebKit/537.36 (KHTML, like Gecko) Chrome/54.0.2840.99 Safari/537.36',\n",
        "                 'Mozilla/5.0 (Windows NT 10.0; WOW64; rv:50.0) Gecko/20100101 Firefox/50.0']\n",
        "\n",
        "def random_headers():\n",
        "    return {'User-Agent': choice(desktop_agents),'Accept':'text/html,application/xhtml+xml,application/xml;q=0.9,image/webp,*/*;q=0.8'}"
      ],
      "metadata": {
        "id": "tXIPIzxsPIrb"
      },
      "execution_count": 39,
      "outputs": []
    },
    {
      "cell_type": "code",
      "source": [
        "def get_html(url):\n",
        "    i = 5\n",
        "    while i > 0:\n",
        "        try:\n",
        "            page = requests.get(url, headers=random_headers())\n",
        "            if page.status_code != requests.codes.ok:\n",
        "                page.raise_for_status()\n",
        "            else:\n",
        "#                 print(url)\n",
        "                return page.text        \n",
        "        except requests.exceptions.RequestException as e:\n",
        "            print(\"Could not fetch \" + url)\n",
        "            print(e)\n",
        "            # sichere url zu einer Liste von fehlgeschlagenen Links\n",
        "            failed_urls.append(url)\n",
        "            sleep(5)\n",
        "            i = i - 1\n",
        "            continue\n",
        "\n",
        "    print(url)\n",
        "    return None\n",
        "def get_ingredients(soup):\n",
        "    # liste von zubereitungen\n",
        "    ingredient_list = []\n",
        "    amounts_ingredients = soup.find('table', class_=\"ingredients table-header\").find_all('tr')\n",
        "\n",
        "    for tr in amounts_ingredients:\n",
        "        am = tr.find_all('td')[0].text.strip().replace(\" \",\"\")  # amount\n",
        "        td = tr.find_all('td')[1].text.strip().split(',')[0] # ingredient\n",
        "        td = re.sub('\\(.*?\\)','', td)\n",
        "        ingr = am + '@' + td\n",
        "        ingredient_list.append(ingr)\n",
        "        \n",
        "    return(str.join(',', ingredient_list))\n",
        "\n",
        "def get_tags(soup):\n",
        "    tags = []\n",
        "    tag_cloud = soup.find('ul', class_ = \"r-nav-box r-std\").find_all('li')\n",
        "    for li in tag_cloud:\n",
        "        tags.append(li.find('a').text.strip())\n",
        "        \n",
        "    return(str.join(',', tags))\n",
        "def get_recipe_info(url):\n",
        "    sleep_time = uniform(2, 4)\n",
        "    sleep(sleep_time)\n",
        "    \n",
        "    html_text = get_html(url)\n",
        "    try:\n",
        "        soup = BeautifulSoup(html_text, 'lxml')\n",
        "\n",
        "        # tags ingredients preparation\n",
        "        ingredient_list = get_ingredients(soup)\n",
        "        tags = get_tags(soup)\n",
        "        # prep = get_zubereitung(soup)\n",
        "        \n",
        "        # pics\n",
        "        list_pics = get_n_pictures(html_text)\n",
        "        # n_pics = len(list_pics)\n",
        "        \n",
        "        # write dictionary\n",
        "        data = {'link' : url,\n",
        "                'ingredients' : ingredient_list,\n",
        "                # 'zubereitung' : prep,\n",
        "                'tags': tags, \n",
        "                'image_link': list_pics}\n",
        "        \n",
        "    except:\n",
        "        data = {}\n",
        "        print('error')\n",
        "    return data"
      ],
      "metadata": {
        "id": "c4qJ99KDOfW5"
      },
      "execution_count": 57,
      "outputs": []
    },
    {
      "cell_type": "code",
      "source": [
        "\n",
        "def get_n_pictures(html_text):\n",
        "  tree = html.fromstring(html_text)\n",
        "  # alle bilder links\n",
        "  links_pics = tree.xpath(\n",
        "      '//div[contains(@class, \"ds-mb-left recipe-image\")] \\\n",
        "      //img[@class=\"i-amphtml-fill-content i-amphtml-replaced-content\"]/@src')\n",
        "  return links_pics[0]"
      ],
      "metadata": {
        "id": "9gGXzRiZOShd"
      },
      "execution_count": 65,
      "outputs": []
    },
    {
      "cell_type": "code",
      "source": [
        "dd = df[:100000]"
      ],
      "metadata": {
        "id": "wSYGUL4qP6S_"
      },
      "execution_count": 67,
      "outputs": []
    },
    {
      "cell_type": "code",
      "source": [
        "dd['image_link'] = ''\n",
        "dd['ingredients'] = ''\n",
        "dd['tags'] = ''"
      ],
      "metadata": {
        "colab": {
          "base_uri": "https://localhost:8080/"
        },
        "id": "F3s8XTV2R3gI",
        "outputId": "e7b39fd7-113c-4062-9520-3f0e13b7caf7"
      },
      "execution_count": 68,
      "outputs": [
        {
          "output_type": "stream",
          "name": "stderr",
          "text": [
            "<ipython-input-68-b9e0847e784d>:1: SettingWithCopyWarning: \n",
            "A value is trying to be set on a copy of a slice from a DataFrame.\n",
            "Try using .loc[row_indexer,col_indexer] = value instead\n",
            "\n",
            "See the caveats in the documentation: https://pandas.pydata.org/pandas-docs/stable/user_guide/indexing.html#returning-a-view-versus-a-copy\n",
            "  dd['image_link'] = ''\n",
            "<ipython-input-68-b9e0847e784d>:2: SettingWithCopyWarning: \n",
            "A value is trying to be set on a copy of a slice from a DataFrame.\n",
            "Try using .loc[row_indexer,col_indexer] = value instead\n",
            "\n",
            "See the caveats in the documentation: https://pandas.pydata.org/pandas-docs/stable/user_guide/indexing.html#returning-a-view-versus-a-copy\n",
            "  dd['ingredients'] = ''\n",
            "<ipython-input-68-b9e0847e784d>:3: SettingWithCopyWarning: \n",
            "A value is trying to be set on a copy of a slice from a DataFrame.\n",
            "Try using .loc[row_indexer,col_indexer] = value instead\n",
            "\n",
            "See the caveats in the documentation: https://pandas.pydata.org/pandas-docs/stable/user_guide/indexing.html#returning-a-view-versus-a-copy\n",
            "  dd['tags'] = ''\n"
          ]
        }
      ]
    },
    {
      "cell_type": "code",
      "source": [
        "dd.head()"
      ],
      "metadata": {
        "colab": {
          "base_uri": "https://localhost:8080/",
          "height": 357
        },
        "id": "yu1Pu7UCSYaA",
        "outputId": "3104fd28-292e-4f17-fb88-e0af414d0020"
      },
      "execution_count": 52,
      "outputs": [
        {
          "output_type": "execute_result",
          "data": {
            "text/plain": [
              "   idx                recipe_id                         recipe_name  \\\n",
              "0    0  recipe-3449791514066439                   Bratapfel-Rotkohl   \n",
              "1    1  recipe-3449721514056932   „Frühstückswolke 7“ aus Fiefhusen   \n",
              "2    2  recipe-3449701514054063  Deichgrafensalat von der Westküste   \n",
              "3    3  recipe-3449651514047893                  Geschichteter Kohl   \n",
              "4    4  recipe-3449681514052511                  Rinderlendenragout   \n",
              "\n",
              "          average_rating stars_shown  votes difficulty preparation_time  \\\n",
              "0  0 Bewertungen - Ø 2.5    star-unb    0.0     normal          45 min.   \n",
              "1  0 Bewertungen - Ø 2.5    star-unb    0.0    pfiffig          15 min.   \n",
              "2  0 Bewertungen - Ø 2.5    star-unb    0.0     normal          30 min.   \n",
              "3  0 Bewertungen - Ø 2.5    star-unb    0.0     normal          40 min.   \n",
              "4  0 Bewertungen - Ø 2.5    star-unb    0.0     normal          15 min.   \n",
              "\n",
              "         date                                               link has_picture  \\\n",
              "0  24.12.2017  https://www.chefkoch.de/rezepte/34497915140664...          no   \n",
              "1  24.12.2017  https://www.chefkoch.de/rezepte/34497215140569...          no   \n",
              "2  24.12.2017  https://www.chefkoch.de/rezepte/34497015140540...          no   \n",
              "3  24.12.2017  https://www.chefkoch.de/rezepte/34496515140478...          no   \n",
              "4  24.12.2017  https://www.chefkoch.de/rezepte/34496815140525...          no   \n",
              "\n",
              "  image_link ingredients tags  \n",
              "0                              \n",
              "1                              \n",
              "2                              \n",
              "3                              \n",
              "4                              "
            ],
            "text/html": [
              "\n",
              "  <div id=\"df-f99d935d-49c1-41e2-aaba-df63e0544cfc\">\n",
              "    <div class=\"colab-df-container\">\n",
              "      <div>\n",
              "<style scoped>\n",
              "    .dataframe tbody tr th:only-of-type {\n",
              "        vertical-align: middle;\n",
              "    }\n",
              "\n",
              "    .dataframe tbody tr th {\n",
              "        vertical-align: top;\n",
              "    }\n",
              "\n",
              "    .dataframe thead th {\n",
              "        text-align: right;\n",
              "    }\n",
              "</style>\n",
              "<table border=\"1\" class=\"dataframe\">\n",
              "  <thead>\n",
              "    <tr style=\"text-align: right;\">\n",
              "      <th></th>\n",
              "      <th>idx</th>\n",
              "      <th>recipe_id</th>\n",
              "      <th>recipe_name</th>\n",
              "      <th>average_rating</th>\n",
              "      <th>stars_shown</th>\n",
              "      <th>votes</th>\n",
              "      <th>difficulty</th>\n",
              "      <th>preparation_time</th>\n",
              "      <th>date</th>\n",
              "      <th>link</th>\n",
              "      <th>has_picture</th>\n",
              "      <th>image_link</th>\n",
              "      <th>ingredients</th>\n",
              "      <th>tags</th>\n",
              "    </tr>\n",
              "  </thead>\n",
              "  <tbody>\n",
              "    <tr>\n",
              "      <th>0</th>\n",
              "      <td>0</td>\n",
              "      <td>recipe-3449791514066439</td>\n",
              "      <td>Bratapfel-Rotkohl</td>\n",
              "      <td>0 Bewertungen - Ø 2.5</td>\n",
              "      <td>star-unb</td>\n",
              "      <td>0.0</td>\n",
              "      <td>normal</td>\n",
              "      <td>45 min.</td>\n",
              "      <td>24.12.2017</td>\n",
              "      <td>https://www.chefkoch.de/rezepte/34497915140664...</td>\n",
              "      <td>no</td>\n",
              "      <td></td>\n",
              "      <td></td>\n",
              "      <td></td>\n",
              "    </tr>\n",
              "    <tr>\n",
              "      <th>1</th>\n",
              "      <td>1</td>\n",
              "      <td>recipe-3449721514056932</td>\n",
              "      <td>„Frühstückswolke 7“ aus Fiefhusen</td>\n",
              "      <td>0 Bewertungen - Ø 2.5</td>\n",
              "      <td>star-unb</td>\n",
              "      <td>0.0</td>\n",
              "      <td>pfiffig</td>\n",
              "      <td>15 min.</td>\n",
              "      <td>24.12.2017</td>\n",
              "      <td>https://www.chefkoch.de/rezepte/34497215140569...</td>\n",
              "      <td>no</td>\n",
              "      <td></td>\n",
              "      <td></td>\n",
              "      <td></td>\n",
              "    </tr>\n",
              "    <tr>\n",
              "      <th>2</th>\n",
              "      <td>2</td>\n",
              "      <td>recipe-3449701514054063</td>\n",
              "      <td>Deichgrafensalat von der Westküste</td>\n",
              "      <td>0 Bewertungen - Ø 2.5</td>\n",
              "      <td>star-unb</td>\n",
              "      <td>0.0</td>\n",
              "      <td>normal</td>\n",
              "      <td>30 min.</td>\n",
              "      <td>24.12.2017</td>\n",
              "      <td>https://www.chefkoch.de/rezepte/34497015140540...</td>\n",
              "      <td>no</td>\n",
              "      <td></td>\n",
              "      <td></td>\n",
              "      <td></td>\n",
              "    </tr>\n",
              "    <tr>\n",
              "      <th>3</th>\n",
              "      <td>3</td>\n",
              "      <td>recipe-3449651514047893</td>\n",
              "      <td>Geschichteter Kohl</td>\n",
              "      <td>0 Bewertungen - Ø 2.5</td>\n",
              "      <td>star-unb</td>\n",
              "      <td>0.0</td>\n",
              "      <td>normal</td>\n",
              "      <td>40 min.</td>\n",
              "      <td>24.12.2017</td>\n",
              "      <td>https://www.chefkoch.de/rezepte/34496515140478...</td>\n",
              "      <td>no</td>\n",
              "      <td></td>\n",
              "      <td></td>\n",
              "      <td></td>\n",
              "    </tr>\n",
              "    <tr>\n",
              "      <th>4</th>\n",
              "      <td>4</td>\n",
              "      <td>recipe-3449681514052511</td>\n",
              "      <td>Rinderlendenragout</td>\n",
              "      <td>0 Bewertungen - Ø 2.5</td>\n",
              "      <td>star-unb</td>\n",
              "      <td>0.0</td>\n",
              "      <td>normal</td>\n",
              "      <td>15 min.</td>\n",
              "      <td>24.12.2017</td>\n",
              "      <td>https://www.chefkoch.de/rezepte/34496815140525...</td>\n",
              "      <td>no</td>\n",
              "      <td></td>\n",
              "      <td></td>\n",
              "      <td></td>\n",
              "    </tr>\n",
              "  </tbody>\n",
              "</table>\n",
              "</div>\n",
              "      <button class=\"colab-df-convert\" onclick=\"convertToInteractive('df-f99d935d-49c1-41e2-aaba-df63e0544cfc')\"\n",
              "              title=\"Convert this dataframe to an interactive table.\"\n",
              "              style=\"display:none;\">\n",
              "        \n",
              "  <svg xmlns=\"http://www.w3.org/2000/svg\" height=\"24px\"viewBox=\"0 0 24 24\"\n",
              "       width=\"24px\">\n",
              "    <path d=\"M0 0h24v24H0V0z\" fill=\"none\"/>\n",
              "    <path d=\"M18.56 5.44l.94 2.06.94-2.06 2.06-.94-2.06-.94-.94-2.06-.94 2.06-2.06.94zm-11 1L8.5 8.5l.94-2.06 2.06-.94-2.06-.94L8.5 2.5l-.94 2.06-2.06.94zm10 10l.94 2.06.94-2.06 2.06-.94-2.06-.94-.94-2.06-.94 2.06-2.06.94z\"/><path d=\"M17.41 7.96l-1.37-1.37c-.4-.4-.92-.59-1.43-.59-.52 0-1.04.2-1.43.59L10.3 9.45l-7.72 7.72c-.78.78-.78 2.05 0 2.83L4 21.41c.39.39.9.59 1.41.59.51 0 1.02-.2 1.41-.59l7.78-7.78 2.81-2.81c.8-.78.8-2.07 0-2.86zM5.41 20L4 18.59l7.72-7.72 1.47 1.35L5.41 20z\"/>\n",
              "  </svg>\n",
              "      </button>\n",
              "      \n",
              "  <style>\n",
              "    .colab-df-container {\n",
              "      display:flex;\n",
              "      flex-wrap:wrap;\n",
              "      gap: 12px;\n",
              "    }\n",
              "\n",
              "    .colab-df-convert {\n",
              "      background-color: #E8F0FE;\n",
              "      border: none;\n",
              "      border-radius: 50%;\n",
              "      cursor: pointer;\n",
              "      display: none;\n",
              "      fill: #1967D2;\n",
              "      height: 32px;\n",
              "      padding: 0 0 0 0;\n",
              "      width: 32px;\n",
              "    }\n",
              "\n",
              "    .colab-df-convert:hover {\n",
              "      background-color: #E2EBFA;\n",
              "      box-shadow: 0px 1px 2px rgba(60, 64, 67, 0.3), 0px 1px 3px 1px rgba(60, 64, 67, 0.15);\n",
              "      fill: #174EA6;\n",
              "    }\n",
              "\n",
              "    [theme=dark] .colab-df-convert {\n",
              "      background-color: #3B4455;\n",
              "      fill: #D2E3FC;\n",
              "    }\n",
              "\n",
              "    [theme=dark] .colab-df-convert:hover {\n",
              "      background-color: #434B5C;\n",
              "      box-shadow: 0px 1px 3px 1px rgba(0, 0, 0, 0.15);\n",
              "      filter: drop-shadow(0px 1px 2px rgba(0, 0, 0, 0.3));\n",
              "      fill: #FFFFFF;\n",
              "    }\n",
              "  </style>\n",
              "\n",
              "      <script>\n",
              "        const buttonEl =\n",
              "          document.querySelector('#df-f99d935d-49c1-41e2-aaba-df63e0544cfc button.colab-df-convert');\n",
              "        buttonEl.style.display =\n",
              "          google.colab.kernel.accessAllowed ? 'block' : 'none';\n",
              "\n",
              "        async function convertToInteractive(key) {\n",
              "          const element = document.querySelector('#df-f99d935d-49c1-41e2-aaba-df63e0544cfc');\n",
              "          const dataTable =\n",
              "            await google.colab.kernel.invokeFunction('convertToInteractive',\n",
              "                                                     [key], {});\n",
              "          if (!dataTable) return;\n",
              "\n",
              "          const docLinkHtml = 'Like what you see? Visit the ' +\n",
              "            '<a target=\"_blank\" href=https://colab.research.google.com/notebooks/data_table.ipynb>data table notebook</a>'\n",
              "            + ' to learn more about interactive tables.';\n",
              "          element.innerHTML = '';\n",
              "          dataTable['output_type'] = 'display_data';\n",
              "          await google.colab.output.renderOutput(dataTable, element);\n",
              "          const docLink = document.createElement('div');\n",
              "          docLink.innerHTML = docLinkHtml;\n",
              "          element.appendChild(docLink);\n",
              "        }\n",
              "      </script>\n",
              "    </div>\n",
              "  </div>\n",
              "  "
            ]
          },
          "metadata": {},
          "execution_count": 52
        }
      ]
    },
    {
      "cell_type": "code",
      "source": [
        "save_path = \"/content/images\"\n",
        "os.makedirs(save_path, exist_ok=True)"
      ],
      "metadata": {
        "id": "t7ld427FVHoo"
      },
      "execution_count": 62,
      "outputs": []
    },
    {
      "cell_type": "code",
      "source": [
        "for i, row in dd.iterrows():\n",
        "  url = row[\"link\"]\n",
        "  data = get_recipe_info(url)\n",
        "  print(data)\n",
        "  if len(data) > 0:\n",
        "    dd.loc[i, 'image_link'] = data['image_link']\n",
        "    dd.loc[i, 'ingredients'] = data['ingredients']\n",
        "    dd.loc[i, 'tags'] = data['tags']\n",
        "    img_name = os.path.join(save_path, row['recipe_id']+'.jpg')\n",
        "    urllib.request.urlretrieve(str(data['image_link']), str(img_name))\n",
        "dd.to_csv(\"/content/recipe_data.csv\", index=False)\n",
        "  \n"
      ],
      "metadata": {
        "colab": {
          "base_uri": "https://localhost:8080/"
        },
        "id": "LuzBv2bEP-TO",
        "outputId": "dc98c463-2eeb-455a-fa80-633ad676df5a"
      },
      "execution_count": null,
      "outputs": [
        {
          "output_type": "stream",
          "name": "stdout",
          "text": [
            "{'link': 'https://www.chefkoch.de/rezepte/3449791514066439/Bratapfel-Rotkohl.html', 'ingredients': '2½kg@Rotkohl ,750g@Äpfel ,500g@Zwiebel,1¼Liter@Apfelsaft,2m.-große@Zitrone,1EL,gestr.@Paprikapulver,1EL,gestr.@Paprikapulver,3EL,gestr.@Honig,3EL,gestr.@Salz,1EL@Pfefferkörner,1TL@Pimentkörner,1TL@Wacholderbeere,2@Lorbeerblätter,evtl.@Salz und Pfeffer,evtl.@Zucker,evtl.@Essigessenz', 'tags': 'Rezepte finden\\ue916,Kategorien,Rezepte eingeben', 'image_link': 'https://img.chefkoch-cdn.de/rezepte/3449791514066439/bilder/1314914/crop-360x240/bratapfel-rotkohl.jpg'}\n",
            "{'link': 'https://www.chefkoch.de/rezepte/3449721514056932/Fruehstueckswolke-7-aus-Fiefhusen.html', 'ingredients': '2@Ei,1EL@Parmesan,2Scheibe/n@Frühstücksspeck,etwas@Rapsöl,1EL,gehäuft@Lauchzwiebel,@Meersalz und Pfeffer', 'tags': 'Rezepte finden\\ue916,Kategorien,Rezepte eingeben', 'image_link': 'https://img.chefkoch-cdn.de/rezepte/3449721514056932/bilder/1079238/crop-360x240/fruehstueckswolke-7-aus-fiefhusen.jpg'}\n",
            "{'link': 'https://www.chefkoch.de/rezepte/3449701514054063/Deichgrafensalat-von-der-Westkueste.html', 'ingredients': '500g@Weißkohl,250g@Knollensellerie in feinen Juliennestreifen,200g@Steckrübe (\"Gelbe Rübe\",100g@Karotte in feinen Juliennestreifen,1kleine@Porreestange,½Bund@Radieschen,1@Zwiebel,1EL@Meersalz,1EL@Kümmel,1EL@Dillsamen,3EL@Rapsöl', 'tags': 'Rezepte finden\\ue916,Kategorien,Rezepte eingeben', 'image_link': 'https://img.chefkoch-cdn.de/img/default/layout/recipe-nopicture.jpg'}\n",
            "{'link': 'https://www.chefkoch.de/rezepte/3449651514047893/Geschichteter-Kohl.html', 'ingredients': '670g@Sauerkraut,etwas@Gemüsebrühe,120g@Reis,230ml@Fleischbrühe,1große@Zwiebel,2EL@Schmalz,450g@Schweinehackfleisch,1EL@Paprikapulver,2Zehe/n@Knoblauch,110g@Räucherspeck,225g@Knackwurst,230ml@saure Sahne,60ml@Milch', 'tags': 'Rezepte finden\\ue916,Kategorien,Rezepte eingeben', 'image_link': 'https://img.chefkoch-cdn.de/img/default/layout/recipe-nopicture.jpg'}\n",
            "{'link': 'https://www.chefkoch.de/rezepte/3449681514052511/Rinderlendenragout.html', 'ingredients': '900g@Rinderlende,1große@Zwiebel,2EL@Schmalz,½Liter@Rinderbrühe,etwas@Mehl,1@Lorbeerblatt,einige@Estragonblätter', 'tags': 'Rezepte finden\\ue916,Kategorien,Rezepte eingeben', 'image_link': 'https://img.chefkoch-cdn.de/img/default/layout/recipe-nopicture.jpg'}\n",
            "{'link': 'https://www.chefkoch.de/rezepte/3449481514034645/Blaukraut-mit-Butter-Maroni.html', 'ingredients': '500g@Blaukraut,2EL@Gänseschmalz,1EL@Zucker,3EL@Rotweinessig,200ml@Apfelsaft,100ml@Portwein,3@Gewürznelke,2@Lorbeerblatt,1@Zimtstange,125g@Marone,20g@Butter,1EL@Johannisbeergelee,1@Apfel,1@Zwiebel,@Salz und Pfeffer', 'tags': 'Rezepte finden\\ue916,Kategorien,Rezepte eingeben', 'image_link': 'https://img.chefkoch-cdn.de/rezepte/3449481514034645/bilder/1079103/crop-360x240/blaukraut-mit-butter-maroni.jpg'}\n",
            "error\n",
            "{}\n",
            "error\n",
            "{}\n",
            "{'link': 'https://www.chefkoch.de/rezepte/3449471514033424/Gebackene-Oberlaender.html', 'ingredients': '300g@Würste (Wollwürste,2@Ei,@Salz und Pfeffer,@Muskatnuss,etwas@Zitronenabrieb,50g@Mehl,50g@Semmelbrösel,150ml@Rapsöl', 'tags': 'Rezepte finden\\ue916,Kategorien,Rezepte eingeben', 'image_link': 'https://img.chefkoch-cdn.de/rezepte/3449471514033424/bilder/1079096/crop-360x240/gebackene-oberlaender.jpg'}\n",
            "{'link': 'https://www.chefkoch.de/rezepte/3449241513953107/McMoes-bunter-Pasta-Topf-Allerlei.html', 'ingredients': '1kl.Kopf@Wirsing,2@Paprikaschote,2@Strauchtomate,4kleine@Zwiebel,2Zehe/n@Knoblauch,250g@Mettwürstchen,3EL@Olivenöl,400g@Makkaroni,100ml@Weißwein,300ml@Gemüsebrühe,500ml@Wasser,3Stiele@Basilikum,100g@Pecorino am Stück,200g@Schlagsahne,etwas@Pfeffer,etwas@Rinderbrühe,etwas@Paprikapulver,n.B.@Salz,etwas@Kräuter', 'tags': 'Rezepte finden\\ue916,Kategorien,Rezepte eingeben', 'image_link': 'https://img.chefkoch-cdn.de/rezepte/3449241513953107/bilder/1484760/crop-360x240/mcmoes-bunter-pasta-topf-allerlei.jpg'}\n",
            "{'link': 'https://www.chefkoch.de/rezepte/3440201512485335/Geschnetzeltes-mit-gebratenen-Radieschen.html', 'ingredients': '500g@Geschnetzeltes vom Schwein,3Bund@Radieschen,1EL@Öl,@Salz und Pfeffer,@Paprikapulver,@Kreuzkümmel,@Koriander', 'tags': 'Rezepte finden\\ue916,Kategorien,Rezepte eingeben', 'image_link': 'https://img.chefkoch-cdn.de/rezepte/3440201512485335/bilder/1074653/crop-360x240/geschnetzeltes-mit-gebratenen-radieschen.jpg'}\n",
            "{'link': 'https://www.chefkoch.de/rezepte/3440191512484382/Ahorn-Bacon-Butter.html', 'ingredients': '1Paket@Butter ,150g@Bacon,2EL@Ahornsirup,1Bund@Petersilie,1Zehe/n@Knoblauch,1TL@Chilipulver,2TL@Paprikapulver,@Salz und Pfeffer', 'tags': 'Rezepte finden\\ue916,Kategorien,Rezepte eingeben', 'image_link': 'https://img.chefkoch-cdn.de/rezepte/3440191512484382/bilder/1124742/crop-360x240/ahorn-bacon-butter.jpg'}\n",
            "{'link': 'https://www.chefkoch.de/rezepte/3440181512484146/Warmer-Endiviensalat-mit-Mettwuerstchen.html', 'ingredients': '150g@Dörrfleisch,1@Zwiebel,1kg@Kartoffel,1Kopf@Endiviensalat,250g@Crème fraîche oder Schmand,2EL@Kräuteressig,@Salz und Pfeffer,@Muskat,etwas@Zucker,4@Mettwürstchen', 'tags': 'Rezepte finden\\ue916,Kategorien,Rezepte eingeben', 'image_link': 'https://img.chefkoch-cdn.de/rezepte/3440181512484146/bilder/1196972/crop-360x240/warmer-endiviensalat-mit-mettwuerstchen.jpg'}\n",
            "{'link': 'https://www.chefkoch.de/rezepte/3440141512483430/Rote-Linsen-Gemuese-Pfanne.html', 'ingredients': '3@Möhre,1@Paprikaschote,2große@Tomate,1Stange/n@Lauch,150g@Linsen,250ml@Gemüsebrühe,1EL@Crème fraîche,½TL@Curry,1TL@Paprikapulver,@Salz und Pfeffer,evtl.@Öl,@Petersilie', 'tags': 'Rezepte finden\\ue916,Kategorien,Rezepte eingeben', 'image_link': 'https://img.chefkoch-cdn.de/rezepte/3440141512483430/bilder/1227441/crop-360x240/rote-linsen-gemuese-pfanne.jpg'}\n",
            "{'link': 'https://www.chefkoch.de/rezepte/3440081512476666/Kotelett-Gratin-mit-Pilzen-und-Schupfnudeln.html', 'ingredients': '350g@Champignons,50g@Speck,600g@Schweinekotelett,3EL@Öl,400g@Schupfnudeln aus dem Kühlregal,20g@Butter,2EL@Mehl,150ml@Milch,100g@Schlagsahne,250ml@Gemüsebrühe,50g@Gouda,½Bund@Schnittlauch,@Salz und Pfeffer', 'tags': 'Rezepte finden\\ue916,Kategorien,Rezepte eingeben', 'image_link': 'https://img.chefkoch-cdn.de/img/default/layout/recipe-nopicture.jpg'}\n",
            "{'link': 'https://www.chefkoch.de/rezepte/3440131512482468/Rotkohl.html', 'ingredients': '1Kopf@Rotkohl,⅛Liter@Rotwein,4EL@Preiselbeeren,4EL@Johannisbeergelee,1TL@Zimtpulver,1TL@Ingwer,2@Lorbeerblätter,4@Nelke,6EL@Apfelmus,6EL@süße Sahne,@Salz und Pfeffer', 'tags': 'Rezepte finden\\ue916,Kategorien,Rezepte eingeben', 'image_link': 'https://img.chefkoch-cdn.de/rezepte/3440131512482468/bilder/1342163/crop-360x240/rotkohl.jpg'}\n",
            "{'link': 'https://www.chefkoch.de/rezepte/3440031512469998/Remouladensauce-aus-Schmand.html', 'ingredients': '1Becher@Schmand,1@Ei,2@Essiggurke,1EL@Petersilie,1EL@Schnittlauchröllchen,1kleine@Zwiebel fein gehackt,@Salz und Pfeffer,@Knoblauchpulver,1Prise(n)@Zucker', 'tags': 'Rezepte finden\\ue916,Kategorien,Rezepte eingeben', 'image_link': 'https://img.chefkoch-cdn.de/rezepte/3440031512469998/bilder/1098456/crop-360x240/remouladensauce-aus-schmand.jpg'}\n",
            "{'link': 'https://www.chefkoch.de/rezepte/3440011512465228/Nudeln-mit-Cashewsauce-und-Tempeh-Meta-Typ-Alpha.html', 'ingredients': '50g@Zucchini,100g@Möhre,100g@Paprikaschote,100g@Dinkelvollkornnudeln,120g@Tempeh', 'tags': 'Rezepte finden\\ue916,Kategorien,Rezepte eingeben', 'image_link': 'https://img.chefkoch-cdn.de/rezepte/3440011512465228/bilder/1074578/crop-360x240/nudeln-mit-cashewsauce-und-tempeh.jpg'}\n",
            "{'link': 'https://www.chefkoch.de/rezepte/3439971512426493/Kohlsuppe.html', 'ingredients': '100g@Bauchspeck,1@Zwiebel,1Bund@Suppengrün (Sellerie,¼@Weißkohl,1Paket@Rosenkohl,2@Kartoffel,4@Rindswürstchen,1TL,gehäuft@Salz,1Prise(n)@Pfeffer,1Prise(n)@Chiliflocken,1TL@Rinderbrühe,1TL@Gemüsebrühepulver,1Glas@Erbsen,1½Liter@Wasser ,½Tube/n@Tomatenmark,@Öl zum Braten', 'tags': 'Rezepte finden\\ue916,Kategorien,Rezepte eingeben', 'image_link': 'https://img.chefkoch-cdn.de/rezepte/3439971512426493/bilder/1074534/crop-360x240/kohlsuppe.jpg'}\n",
            "{'link': 'https://www.chefkoch.de/rezepte/3439961512426428/Gemuese-Hackfleischauflauf.html', 'ingredients': '1große@Zucchini,1@Karotte,1m.-große@Süßkartoffel,1Becher@Sahne,500g@Rinderhackfleisch,1Dose@Tomatensauce,3EL@Tomatenmark,3EL@Gemüsebrühe,1Beutel@Mozzarella,1Beutel@Käse,@Salz und Pfeffer', 'tags': 'Rezepte finden\\ue916,Kategorien,Rezepte eingeben', 'image_link': 'https://img.chefkoch-cdn.de/rezepte/3439961512426428/bilder/1074533/crop-360x240/gemuese-hackfleischauflauf.jpg'}\n",
            "{'link': 'https://www.chefkoch.de/rezepte/3439951512423018/Pfannensandwich-Kaese-Salami.html', 'ingredients': '2Scheibe/n@Toastbrot,1Scheibe/n@Käse,1Scheibe/n@Salami oder beliebige Wurst,1TL@Butter,½@Ketchup,n.B.@Pfeffer,n.B.@Tomate,@Öl zum Braten', 'tags': 'Rezepte finden\\ue916,Kategorien,Rezepte eingeben', 'image_link': 'https://img.chefkoch-cdn.de/rezepte/3439951512423018/bilder/1466920/crop-360x240/pfannensandwich-kaese-salami.jpg'}\n",
            "{'link': 'https://www.chefkoch.de/rezepte/3439941512420770/Chicor-e-nach-Bernburger-Art.html', 'ingredients': '4m.-große@Chicorée,3EL@Butter,1m.-große@Zitrone,4Scheibe/n@Kochschinken,125ml@Kondensmilch,4Scheibe/n@Edamer Käse,2cl@Weinbrand oder Cognac,½Zehe/n@Knoblauch,n.B.@Salz und Pfeffer,n.B.@Glutamat ', 'tags': 'Rezepte finden\\ue916,Kategorien,Rezepte eingeben', 'image_link': 'https://img.chefkoch-cdn.de/img/default/layout/recipe-nopicture.jpg'}\n",
            "{'link': 'https://www.chefkoch.de/rezepte/3439921512417177/Eierlikoer-Kokoskuchen.html', 'ingredients': '250g@Mehl,250g@Kokosraspel,1Beutel@Backpulver,2Beutel@Vanillezucker,1Prise(n)@Salz,750ml@Eierlikör,@Fett und Mehl für die Form', 'tags': 'Rezepte finden\\ue916,Kategorien,Rezepte eingeben', 'image_link': 'https://img.chefkoch-cdn.de/rezepte/3439921512417177/bilder/1074508/crop-360x240/eierlikoer-kokoskuchen.jpg'}\n",
            "{'link': 'https://www.chefkoch.de/rezepte/3439911512417093/Nudeln-mit-Kuerbis-und-Spinat.html', 'ingredients': '200g@Nudeln,½@Hokkaidokürbis,1kleine@Zwiebel,2Handvoll@Blattspinat,75ml@Wasser,75ml@süße Sahne,1TL,gestr.@Gemüsebrühe,1TL,gestr.@Kurkuma,2EL@Olivenöl,@Salz und Pfeffer,@Muskat,etwas@Parmesan', 'tags': 'Rezepte finden\\ue916,Kategorien,Rezepte eingeben', 'image_link': 'https://img.chefkoch-cdn.de/rezepte/3439911512417093/bilder/1335760/crop-360x240/nudeln-mit-kuerbis-und-spinat.jpg'}\n",
            "{'link': 'https://www.chefkoch.de/rezepte/3439841512408566/Hokkaido-Suesskartoffel-Suppe-mit-Kokosmilch-und-gebratenen-Garnelen.html', 'ingredients': '1@Hokkaidokürbis ,1@Süßkartoffel ,1große@Zwiebel,2@Knoblauchzehe,400ml@Kalbsfond,400ml@Gemüsebrühe,200ml@Salzwasser,400ml@Kokosmilch,24große@Garnele,½@Zitrone,20g@Pinienkerne oder andere,1@Frühlingszwiebel,2EL@Kürbiskernöl,½Becher@Schmand,n.B.@Balsamico  zum Beträufeln der Teller,@Salz und Pfeffer,@Currypulver,@Estragon,etwas@Maggi oder Brühe', 'tags': 'Rezepte finden\\ue916,Kategorien,Rezepte eingeben', 'image_link': 'https://img.chefkoch-cdn.de/rezepte/3439841512408566/bilder/1140567/crop-360x240/hokkaido-suesskartoffel-suppe-mit-kokosmilch-und-gebratenen-garnelen.jpg'}\n",
            "{'link': 'https://www.chefkoch.de/rezepte/3439571512375851/Rehgulasch.html', 'ingredients': '500g@Rehfleisch aus der Schulter oder Keule,2große@Zwiebel,30g@Butter oder Butterschmalz,@Tomatenmark,@Salz und Pfeffer,@Oregano,@Paprikapulver,1Glas@Wildfond oder Gemüsefond,300ml@Rotwein', 'tags': 'Rezepte finden\\ue916,Kategorien,Rezepte eingeben', 'image_link': 'https://img.chefkoch-cdn.de/img/default/layout/recipe-nopicture.jpg'}\n",
            "{'link': 'https://www.chefkoch.de/rezepte/3439781512405763/Moenchguter-Fischwuerfel.html', 'ingredients': '750g@Fischfilet,75g@Butter,10g@Mehl,3m.-große@Gewürzgurke,1EL,gehäuft@Kapern,125ml@Kondensmilch,2@Eigelb,1Bund@Petersilie,n.B.@Salz,n.B.@Zucker,n.B.@Essig,2m.-große@Lorbeerblätter,1TL@Brühe', 'tags': 'Rezepte finden\\ue916,Kategorien,Rezepte eingeben', 'image_link': 'https://img.chefkoch-cdn.de/rezepte/3439781512405763/bilder/1074446/crop-360x240/moenchguter-fischwuerfel.jpg'}\n",
            "{'link': 'https://www.chefkoch.de/rezepte/3439751512402828/Suedtiroler-Nudeln.html', 'ingredients': '400g@Bandnudeln,125ml@Sahne,100g@Gorgonzola oder anderer Schimmelkäse,50g@Ricotta,1Msp.@Pfeffer,1Msp.@Schabzigerklee,1Msp.@Bockshornklee,etwas@Salz,2EL@Olivenöl,2@Birne,15@Walnusskerne,3Blätter@Salbei', 'tags': 'Rezepte finden\\ue916,Kategorien,Rezepte eingeben', 'image_link': 'https://img.chefkoch-cdn.de/img/default/layout/recipe-nopicture.jpg'}\n",
            "{'link': 'https://www.chefkoch.de/rezepte/3439731512402196/Suesse-Faschingsspaetzle.html', 'ingredients': '1Pkt.@Hefe,500g@Mehl Type 405 oder 630,50g@Butter oder Margarine,450ml@Milch,5@Eigelb ,1@Zitrone,40ml@Rum,1Prise(n)@Salz,1Msp.@Zimtpulver,1Msp.@Nelkenpulver,1Msp.@Vanillepulver,2EL@Zucker', 'tags': 'Rezepte finden\\ue916,Kategorien,Rezepte eingeben', 'image_link': 'https://img.chefkoch-cdn.de/img/default/layout/recipe-nopicture.jpg'}\n"
          ]
        }
      ]
    },
    {
      "cell_type": "code",
      "source": [],
      "metadata": {
        "id": "q49x4QDSWokG"
      },
      "execution_count": null,
      "outputs": []
    },
    {
      "cell_type": "code",
      "source": [],
      "metadata": {
        "id": "Ct_fuxoCLis2"
      },
      "execution_count": null,
      "outputs": []
    }
  ]
}